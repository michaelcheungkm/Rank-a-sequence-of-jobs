{
 "cells": [
  {
   "cell_type": "markdown",
   "metadata": {},
   "source": [
    "## Rank a sequence of Jobs"
   ]
  },
  {
   "cell_type": "markdown",
   "metadata": {},
   "source": [
    "Consider $n$ Jobs, each with Job_ID, Process time and Deadline in days. \n",
    "\n",
    "$$\n",
    "\\begin{array}{|c|c|c|}\n",
    "\\hline\n",
    "\\text{ID} & \\text{Process Time} & \\text{Deadline (Days)}\\\\ \n",
    "\\hline\n",
    "1 & t_{1} & d_{1}\\\\\n",
    "\\hline\n",
    "\\vdots & \\vdots & \\vdots\\\\\n",
    "\\hline\n",
    "k & t_{k} & d_{k}\\\\\n",
    "\\hline\n",
    "\\vdots & \\vdots & \\vdots\\\\\n",
    "\\hline\n",
    "n & t_{n} & d_{n}\\\\\n",
    "\\hline\n",
    "\\end{array}\n",
    "$$"
   ]
  },
  {
   "cell_type": "markdown",
   "metadata": {},
   "source": [
    "A job $k$ in a sequence of jobs is delayed when $\\sum_{i=1}^{k} t_{i} > d_{k}$."
   ]
  },
  {
   "cell_type": "markdown",
   "metadata": {},
   "source": [
    "An algorithm to rank the jobs are provided as follows:\n",
    "\n",
    "- Step 1 Rank the jobs according to deadlines.\n",
    "- Step 2 Find the first delayed job.\n",
    "- Step 3 Find the job with the highest process time between the first job and the first delayed job.\n",
    "- Step 4 Place the job found in step 3 to the last of the sequence of jobs.\n",
    "- Step 5 Reduce the number of unprocessed jobs by 1 and go to step 1.\n",
    "- Step 6 The algorithm continues until only one unprocessed job is left."
   ]
  },
  {
   "cell_type": "code",
   "execution_count": 178,
   "metadata": {},
   "outputs": [],
   "source": [
    "#Each Job has Job_ID, Process Time and Deadline in Days\n",
    "Jobs = [[1,9,32],\n",
    "        [2,7,29],\n",
    "        [3,8,22],\n",
    "        [4,18,21],\n",
    "        [5,9,37],\n",
    "        [6,6,28],\n",
    "        [7,13,40],\n",
    "        [8,10,37],\n",
    "        [9,6,25]]"
   ]
  },
  {
   "cell_type": "code",
   "execution_count": 179,
   "metadata": {},
   "outputs": [
    {
     "data": {
      "text/plain": [
       "9"
      ]
     },
     "execution_count": 179,
     "metadata": {},
     "output_type": "execute_result"
    }
   ],
   "source": [
    "NrJobs=len(Jobs)\n",
    "NrJobs"
   ]
  },
  {
   "cell_type": "code",
   "execution_count": 180,
   "metadata": {},
   "outputs": [
    {
     "data": {
      "text/plain": [
       "9"
      ]
     },
     "execution_count": 180,
     "metadata": {},
     "output_type": "execute_result"
    }
   ],
   "source": [
    "lastjob = NrJobs\n",
    "lastjob"
   ]
  },
  {
   "cell_type": "code",
   "execution_count": 181,
   "metadata": {},
   "outputs": [
    {
     "data": {
      "text/plain": [
       "[[4, 18, 21],\n",
       " [3, 8, 22],\n",
       " [9, 6, 25],\n",
       " [6, 6, 28],\n",
       " [2, 7, 29],\n",
       " [1, 9, 32],\n",
       " [5, 9, 37],\n",
       " [8, 10, 37],\n",
       " [7, 13, 40]]"
      ]
     },
     "execution_count": 181,
     "metadata": {},
     "output_type": "execute_result"
    }
   ],
   "source": [
    "Jobs_sorted = sorted(Jobs, key=lambda job: job[2])\n",
    "Jobs_sorted"
   ]
  },
  {
   "cell_type": "code",
   "execution_count": 182,
   "metadata": {},
   "outputs": [],
   "source": [
    "CumulativePT = [sum([x[1] for x in Jobs_sorted[:i]]) for i in range(1,(lastjob+1))]\n",
    "Delay = [1 if Jobs_sorted[i][2] < CumulativePT[i] else 0 for i in range(lastjob)]"
   ]
  },
  {
   "cell_type": "code",
   "execution_count": 183,
   "metadata": {},
   "outputs": [
    {
     "data": {
      "text/plain": [
       "[0, 1, 1, 1, 1, 1, 1, 1, 1]"
      ]
     },
     "execution_count": 183,
     "metadata": {},
     "output_type": "execute_result"
    }
   ],
   "source": [
    "Delay"
   ]
  },
  {
   "cell_type": "code",
   "execution_count": 184,
   "metadata": {},
   "outputs": [
    {
     "data": {
      "text/plain": [
       "[18, 26, 32, 38, 45, 54, 63, 73, 86]"
      ]
     },
     "execution_count": 184,
     "metadata": {},
     "output_type": "execute_result"
    }
   ],
   "source": [
    "CumulativePT"
   ]
  },
  {
   "cell_type": "code",
   "execution_count": 185,
   "metadata": {},
   "outputs": [
    {
     "data": {
      "text/plain": [
       "8"
      ]
     },
     "execution_count": 185,
     "metadata": {},
     "output_type": "execute_result"
    }
   ],
   "source": [
    "[i for i,_ in enumerate(CumulativePT) if CumulativePT[i]==max(CumulativePT)][0]"
   ]
  },
  {
   "cell_type": "code",
   "execution_count": 186,
   "metadata": {},
   "outputs": [],
   "source": [
    "def process_a_job(lastjob,Jobs):\n",
    "    Jobs2 = Jobs\n",
    "    Jobs_sorted = sorted(Jobs[:lastjob], key=lambda job: job[2])\n",
    "    CumulativePT = [sum([x[1] for x in Jobs_sorted[:i]]) for i in range(1,(lastjob+1))]\n",
    "    Delay = [1 if Jobs_sorted[i][2] < CumulativePT[i] else 0 for i in range(lastjob)]\n",
    "    i = 1\n",
    "    astop = 0\n",
    "    while (astop==0) and (i < lastjob):\n",
    "        if Delay[i]==1:\n",
    "            Temp = [x[1] for x in Jobs_sorted[:(i+1)]]\n",
    "            inx = [k for k,_ in enumerate(Temp) if Temp[k]==max(Temp)][0]\n",
    "            Temp2 = Jobs_sorted[inx]\n",
    "            Jobs_sorted[inx] = Jobs_sorted[i]\n",
    "            for j in range(i+1,lastjob):\n",
    "                Jobs_sorted[j-1] = Jobs_sorted[j]\n",
    "            Jobs_sorted[lastjob-1] = Temp2\n",
    "            Jobs2[:lastjob] = Jobs_sorted\n",
    "            lastjob = lastjob-1\n",
    "            astop =1\n",
    "        else:\n",
    "            i = i+1\n",
    "    return Jobs2"
   ]
  },
  {
   "cell_type": "code",
   "execution_count": 187,
   "metadata": {},
   "outputs": [
    {
     "data": {
      "text/plain": [
       "[[3, 8, 22],\n",
       " [9, 6, 25],\n",
       " [6, 6, 28],\n",
       " [2, 7, 29],\n",
       " [1, 9, 32],\n",
       " [5, 9, 37],\n",
       " [8, 10, 37],\n",
       " [7, 13, 40],\n",
       " [4, 18, 21]]"
      ]
     },
     "execution_count": 187,
     "metadata": {},
     "output_type": "execute_result"
    }
   ],
   "source": [
    "process_a_job(lastjob,Jobs)"
   ]
  },
  {
   "cell_type": "code",
   "execution_count": 188,
   "metadata": {},
   "outputs": [],
   "source": [
    "lastjob = NrJobs\n",
    "Jobs_copy = Jobs\n",
    "while lastjob > 1:\n",
    "    Jobs_copy = process_a_job(lastjob,Jobs_copy)\n",
    "    lastjob = lastjob-1"
   ]
  },
  {
   "cell_type": "code",
   "execution_count": 189,
   "metadata": {},
   "outputs": [
    {
     "data": {
      "text/plain": [
       "[[3, 8, 22],\n",
       " [9, 6, 25],\n",
       " [6, 6, 28],\n",
       " [2, 7, 29],\n",
       " [5, 9, 37],\n",
       " [7, 13, 40],\n",
       " [8, 10, 37],\n",
       " [1, 9, 32],\n",
       " [4, 18, 21]]"
      ]
     },
     "execution_count": 189,
     "metadata": {},
     "output_type": "execute_result"
    }
   ],
   "source": [
    "Jobs_copy"
   ]
  },
  {
   "cell_type": "code",
   "execution_count": 190,
   "metadata": {},
   "outputs": [],
   "source": [
    "CumulativePT = [sum([x[1] for x in Jobs_copy[:i]]) for i in range(1,(NrJobs+1))]\n",
    "Delay = [1 if Jobs_copy[i][2] < CumulativePT[i] else 0 for i in range(NrJobs)]"
   ]
  },
  {
   "cell_type": "code",
   "execution_count": 191,
   "metadata": {},
   "outputs": [
    {
     "data": {
      "text/plain": [
       "[8, 14, 20, 27, 36, 49, 59, 68, 86]"
      ]
     },
     "execution_count": 191,
     "metadata": {},
     "output_type": "execute_result"
    }
   ],
   "source": [
    "CumulativePT"
   ]
  },
  {
   "cell_type": "code",
   "execution_count": 192,
   "metadata": {},
   "outputs": [
    {
     "data": {
      "text/plain": [
       "[0, 0, 0, 0, 0, 1, 1, 1, 1]"
      ]
     },
     "execution_count": 192,
     "metadata": {},
     "output_type": "execute_result"
    }
   ],
   "source": [
    "Delay"
   ]
  },
  {
   "cell_type": "code",
   "execution_count": null,
   "metadata": {},
   "outputs": [],
   "source": []
  }
 ],
 "metadata": {
  "kernelspec": {
   "display_name": "Python 3",
   "language": "python",
   "name": "python3"
  },
  "language_info": {
   "codemirror_mode": {
    "name": "ipython",
    "version": 3
   },
   "file_extension": ".py",
   "mimetype": "text/x-python",
   "name": "python",
   "nbconvert_exporter": "python",
   "pygments_lexer": "ipython3",
   "version": "3.7.3"
  }
 },
 "nbformat": 4,
 "nbformat_minor": 2
}
